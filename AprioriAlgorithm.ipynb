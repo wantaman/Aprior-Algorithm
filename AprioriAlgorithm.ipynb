{
 "cells": [
  {
   "cell_type": "markdown",
   "metadata": {},
   "source": [
    "Import Library"
   ]
  },
  {
   "cell_type": "code",
   "execution_count": 28,
   "metadata": {},
   "outputs": [],
   "source": [
    "import numpy as np\n",
    "import matplotlib.pyplot as plt\n",
    "import pandas as pd\n",
    "from apyori import apriori \n",
    "from mlxtend.preprocessing import TransactionEncoder"
   ]
  },
  {
   "cell_type": "code",
   "execution_count": 47,
   "metadata": {},
   "outputs": [
    {
     "data": {
      "text/html": [
       "<div>\n",
       "<style scoped>\n",
       "    .dataframe tbody tr th:only-of-type {\n",
       "        vertical-align: middle;\n",
       "    }\n",
       "\n",
       "    .dataframe tbody tr th {\n",
       "        vertical-align: top;\n",
       "    }\n",
       "\n",
       "    .dataframe thead th {\n",
       "        text-align: right;\n",
       "    }\n",
       "</style>\n",
       "<table border=\"1\" class=\"dataframe\">\n",
       "  <thead>\n",
       "    <tr style=\"text-align: right;\">\n",
       "      <th></th>\n",
       "      <th>Invoice</th>\n",
       "      <th>StockCode</th>\n",
       "      <th>Description</th>\n",
       "      <th>Quantity</th>\n",
       "      <th>InvoiceDate</th>\n",
       "      <th>Price</th>\n",
       "      <th>Customer ID</th>\n",
       "      <th>Country</th>\n",
       "    </tr>\n",
       "  </thead>\n",
       "  <tbody>\n",
       "    <tr>\n",
       "      <th>0</th>\n",
       "      <td>489434</td>\n",
       "      <td>85048</td>\n",
       "      <td>15CM CHRISTMAS GLASS BALL 20 LIGHTS</td>\n",
       "      <td>12</td>\n",
       "      <td>2009-12-01 07:45:00</td>\n",
       "      <td>6.95</td>\n",
       "      <td>13085.0</td>\n",
       "      <td>United Kingdom</td>\n",
       "    </tr>\n",
       "    <tr>\n",
       "      <th>1</th>\n",
       "      <td>489434</td>\n",
       "      <td>79323P</td>\n",
       "      <td>PINK CHERRY LIGHTS</td>\n",
       "      <td>12</td>\n",
       "      <td>2009-12-01 07:45:00</td>\n",
       "      <td>6.75</td>\n",
       "      <td>13085.0</td>\n",
       "      <td>United Kingdom</td>\n",
       "    </tr>\n",
       "    <tr>\n",
       "      <th>2</th>\n",
       "      <td>489434</td>\n",
       "      <td>79323W</td>\n",
       "      <td>WHITE CHERRY LIGHTS</td>\n",
       "      <td>12</td>\n",
       "      <td>2009-12-01 07:45:00</td>\n",
       "      <td>6.75</td>\n",
       "      <td>13085.0</td>\n",
       "      <td>United Kingdom</td>\n",
       "    </tr>\n",
       "    <tr>\n",
       "      <th>3</th>\n",
       "      <td>489434</td>\n",
       "      <td>22041</td>\n",
       "      <td>RECORD FRAME 7\" SINGLE SIZE</td>\n",
       "      <td>48</td>\n",
       "      <td>2009-12-01 07:45:00</td>\n",
       "      <td>2.10</td>\n",
       "      <td>13085.0</td>\n",
       "      <td>United Kingdom</td>\n",
       "    </tr>\n",
       "    <tr>\n",
       "      <th>4</th>\n",
       "      <td>489434</td>\n",
       "      <td>21232</td>\n",
       "      <td>STRAWBERRY CERAMIC TRINKET BOX</td>\n",
       "      <td>24</td>\n",
       "      <td>2009-12-01 07:45:00</td>\n",
       "      <td>1.25</td>\n",
       "      <td>13085.0</td>\n",
       "      <td>United Kingdom</td>\n",
       "    </tr>\n",
       "  </tbody>\n",
       "</table>\n",
       "</div>"
      ],
      "text/plain": [
       "  Invoice StockCode                          Description  Quantity  \\\n",
       "0  489434     85048  15CM CHRISTMAS GLASS BALL 20 LIGHTS        12   \n",
       "1  489434    79323P                   PINK CHERRY LIGHTS        12   \n",
       "2  489434    79323W                  WHITE CHERRY LIGHTS        12   \n",
       "3  489434     22041         RECORD FRAME 7\" SINGLE SIZE         48   \n",
       "4  489434     21232       STRAWBERRY CERAMIC TRINKET BOX        24   \n",
       "\n",
       "          InvoiceDate  Price  Customer ID         Country  \n",
       "0 2009-12-01 07:45:00   6.95      13085.0  United Kingdom  \n",
       "1 2009-12-01 07:45:00   6.75      13085.0  United Kingdom  \n",
       "2 2009-12-01 07:45:00   6.75      13085.0  United Kingdom  \n",
       "3 2009-12-01 07:45:00   2.10      13085.0  United Kingdom  \n",
       "4 2009-12-01 07:45:00   1.25      13085.0  United Kingdom  "
      ]
     },
     "execution_count": 47,
     "metadata": {},
     "output_type": "execute_result"
    }
   ],
   "source": [
    "# Step 1: Data Collection\n",
    "df = pd.read_excel(\"data/online_retail_II.xlsx\")\n",
    "df.head()"
   ]
  },
  {
   "cell_type": "code",
   "execution_count": 56,
   "metadata": {},
   "outputs": [
    {
     "name": "stdout",
     "output_type": "stream",
     "text": [
      "=============> Data processing <=============  \n",
      "        Invoice StockCode                          Description  Quantity  \\\n",
      "0       489434     85048  15CM CHRISTMAS GLASS BALL 20 LIGHTS        12   \n",
      "1       489434    79323P                   PINK CHERRY LIGHTS        12   \n",
      "2       489434    79323W                  WHITE CHERRY LIGHTS        12   \n",
      "3       489434     22041         RECORD FRAME 7\" SINGLE SIZE         48   \n",
      "4       489434     21232       STRAWBERRY CERAMIC TRINKET BOX        24   \n",
      "...        ...       ...                                  ...       ...   \n",
      "525456  538171     22271                 FELTCRAFT DOLL ROSIE         2   \n",
      "525457  538171     22750         FELTCRAFT PRINCESS LOLA DOLL         1   \n",
      "525458  538171     22751       FELTCRAFT PRINCESS OLIVIA DOLL         1   \n",
      "525459  538171     20970   PINK FLORAL FELTCRAFT SHOULDER BAG         2   \n",
      "525460  538171     21931               JUMBO STORAGE BAG SUKI         2   \n",
      "\n",
      "               InvoiceDate  Price  Customer ID         Country  \n",
      "0      2009-12-01 07:45:00   6.95      13085.0  United Kingdom  \n",
      "1      2009-12-01 07:45:00   6.75      13085.0  United Kingdom  \n",
      "2      2009-12-01 07:45:00   6.75      13085.0  United Kingdom  \n",
      "3      2009-12-01 07:45:00   2.10      13085.0  United Kingdom  \n",
      "4      2009-12-01 07:45:00   1.25      13085.0  United Kingdom  \n",
      "...                    ...    ...          ...             ...  \n",
      "525456 2010-12-09 20:01:00   2.95      17530.0  United Kingdom  \n",
      "525457 2010-12-09 20:01:00   3.75      17530.0  United Kingdom  \n",
      "525458 2010-12-09 20:01:00   3.75      17530.0  United Kingdom  \n",
      "525459 2010-12-09 20:01:00   3.75      17530.0  United Kingdom  \n",
      "525460 2010-12-09 20:01:00   1.95      17530.0  United Kingdom  \n",
      "\n",
      "[522533 rows x 8 columns]\n",
      "=============> Convert Data to transaction <============= \n",
      " [['Invoice'], ['StockCode'], ['Description'], ['Quantity'], ['InvoiceDate'], ['Price'], ['Customer ID'], ['Country']]\n"
     ]
    }
   ],
   "source": [
    "# Step 2: Data processing with missing values\n",
    "records = df.dropna(subset=[\"Description\",\"Quantity\",\"Price\"])\n",
    "print(\"=============> Data processing <=============  \\n\" , records)\n",
    "\n",
    "#  Convert into Transactions only 8 records\n",
    "transaction = []\n",
    "for row in records: \n",
    "    row = str(row)\n",
    "    transaction.append(row.split(','))\n",
    "    \n",
    "print(\"=============> Convert Data to transaction <============= \\n\", transaction[:8])"
   ]
  },
  {
   "cell_type": "code",
   "execution_count": 57,
   "metadata": {},
   "outputs": [
    {
     "name": "stdout",
     "output_type": "stream",
     "text": [
      "=============> Binary Matrix <============= \n",
      "    Country  Customer ID  Description  Invoice  InvoiceDate  Price  Quantity  \\\n",
      "0        0            0            0        1            0      0         0   \n",
      "1        0            0            0        0            0      0         0   \n",
      "2        0            0            1        0            0      0         0   \n",
      "3        0            0            0        0            0      0         1   \n",
      "4        0            0            0        0            1      0         0   \n",
      "5        0            0            0        0            0      1         0   \n",
      "6        0            1            0        0            0      0         0   \n",
      "7        1            0            0        0            0      0         0   \n",
      "\n",
      "   StockCode  \n",
      "0          0  \n",
      "1          1  \n",
      "2          0  \n",
      "3          0  \n",
      "4          0  \n",
      "5          0  \n",
      "6          0  \n",
      "7          0  \n"
     ]
    }
   ],
   "source": [
    "# Step 3 : Convert to bit arrays matrix\n",
    "tranEncode = TransactionEncoder()\n",
    "tranEncodeArray = tranEncode.fit(transaction).transform(transaction)\n",
    "binary_matrix = pd.DataFrame(tranEncodeArray, columns=tranEncode.columns_)\n",
    "print(\"=============> Binary Matrix <============= \\n\" , binary_matrix.astype(int))\n"
   ]
  },
  {
   "cell_type": "code",
   "execution_count": 58,
   "metadata": {},
   "outputs": [
    {
     "name": "stdout",
     "output_type": "stream",
     "text": [
      "=============> Frequent One-Itemsets <============= \n",
      " []\n"
     ]
    }
   ],
   "source": [
    "# Frequent One-Itemset Generation\n",
    "min_support = 0.05\n",
    "min_confidence = 0.0\n",
    "min_lift = 0.0\n",
    "\n",
    "rules = apriori(transaction,min_support=min_support,min_confidence=min_confidence,min_lift=min_lift)\n",
    "result = list(rules)\n",
    "frequent_one_itemsets = []\n",
    "for result in result :\n",
    "    if len(result.items) == 1 :\n",
    "        result.items\n",
    "print(\"=============> Frequent One-Itemsets <============= \\n\" ,frequent_one_itemsets)\n"
   ]
  },
  {
   "cell_type": "code",
   "execution_count": 61,
   "metadata": {},
   "outputs": [
    {
     "name": "stdout",
     "output_type": "stream",
     "text": [
      "Unique Transactions: [['Invoice'], ['Price'], ['Description'], ['StockCode'], ['InvoiceDate'], ['Quantity'], ['Customer ID'], ['Country']]\n"
     ]
    }
   ],
   "source": [
    "#  Remove Duplicate Data \n",
    "unique_transactions = [list(x) for x in set(tuple(transaction) for transaction in transaction)]\n",
    "print(\"Unique Transactions:\", unique_transactions[:8])"
   ]
  }
 ],
 "metadata": {
  "kernelspec": {
   "display_name": "venv",
   "language": "python",
   "name": "python3"
  },
  "language_info": {
   "codemirror_mode": {
    "name": "ipython",
    "version": 3
   },
   "file_extension": ".py",
   "mimetype": "text/x-python",
   "name": "python",
   "nbconvert_exporter": "python",
   "pygments_lexer": "ipython3",
   "version": "3.10.11"
  }
 },
 "nbformat": 4,
 "nbformat_minor": 2
}
